{
 "cells": [
  {
   "cell_type": "code",
   "execution_count": null,
   "metadata": {},
   "outputs": [],
   "source": [
    "<!DOCTYBE HTML>\n",
    "<html> \n",
    "       <head>\n",
    "               <title>Control de versiones</title>\n",
    "               <meta charset=\"UTF-8\">\n",
    "        </head>\n",
    "         <body>\n",
    "               <main>\n",
    "                      <h1>Laboratorio de Github</h1>\n",
    "               </main>\n",
    "         </body>\n",
    "</html>"
   ]
  }
 ],
 "metadata": {
  "language_info": {
   "name": "python"
  },
  "orig_nbformat": 4
 },
 "nbformat": 4,
 "nbformat_minor": 2
}
